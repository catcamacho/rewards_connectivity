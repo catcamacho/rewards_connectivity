{
 "cells": [
  {
   "cell_type": "code",
   "execution_count": null,
   "metadata": {
    "collapsed": true
   },
   "outputs": [],
   "source": [
    "# Import stuff\n",
    "from os.path import join\n",
    "from pandas import DataFrame\n",
    "\n",
    "from nipype.pipeline.engine import Workflow, Node, JoinNode\n",
    "from nipype.interfaces.utility import IdentityInterface, Function\n",
    "from nipype.interfaces.io import DataSink, DataGrabber, FreeSurferSource\n",
    "\n",
    "from nipype.interfaces.freesurfer.preprocess import ReconAll, MRIConvert\n",
    "from nipype.interfaces.freesurfer.model import Binarize\n",
    "from nipype.interfaces.fsl.utils import Reorient2Std, Merge\n",
    "from nipype.interfaces.fsl.preprocess import MCFLIRT, SliceTimer\n",
    "\n",
    "# MATLAB setup - Specify path to current SPM and the MATLAB's default mode\n",
    "from nipype.interfaces.matlab import MatlabCommand\n",
    "MatlabCommand.set_default_paths('~/spm12/toolbox')\n",
    "MatlabCommand.set_default_matlab_cmd(\"matlab -nodesktop -nosplash\")\n",
    "\n",
    "# FSL set up- change default file output type\n",
    "from nipype.interfaces.fsl import FSLCommand\n",
    "FSLCommand.set_default_output_type('NIFTI')\n",
    "\n",
    "# FreeSurfer set up - change SUBJECTS_DIR \n",
    "fs_dir = analysis_home + '/freesurfer'\n",
    "FSCommand.set_default_subjects_dir(fs_dir)\n",
    "\n",
    "# Set study variables\n",
    "analysis_home = '/Users/catcamacho/Box/LNCD_rewards_connectivity'\n",
    "raw_dir = analysis_home + '/subjs'\n",
    "preproc_dir = analysis_home + '/proc/preprocessing'\n",
    "firstlevel_dir = analysis_home + '/proc/firstlevel'\n",
    "secondlevel_dir = analysis_home + '/proc/secondlevel'\n",
    "workflow_dir = analysis_home + '/workflows'\n",
    "\n",
    "subject_info = DataFrame.from_csv(analysis_home + '/misc/subjs.csv')\n",
    "subjects_list = subject_info['SubjID'].tolist()\n",
    "timepoints = subject_info['Timepoint'].tolist()\n",
    "\n",
    "# data collection specs\n",
    "TR = 1.5 #in seconds\n",
    "num_slices = 29\n",
    "slice_direction = 3 #3 = z direction\n",
    "interleaved = False"
   ]
  },
  {
   "cell_type": "code",
   "execution_count": null,
   "metadata": {
    "collapsed": true
   },
   "outputs": [],
   "source": [
    "# Data handling nodes\n",
    "infosource = Node(IdentityInterface(fields=['subjid','timepoint']), \n",
    "                  name='infosource')\n",
    "infosource.iterables = [('subjid', subjects_list),('timepoint', timepoints)]\n",
    "infosource.synchronize = True\n",
    "\n",
    "#grab niftis\n",
    "template = {'func':preproc_dir + '/%s/%d_*/*/functional/functional.nii.gz';\n",
    "            'struct':preproc_dir + '/%s/%d_*/mprage/mprage.nii.gz';\n",
    "            'timing':preproc_dir + '/%s/%d_*/timing/*score_timing.txt'}\n",
    "filegrabber = Node(DataGrabber(sort_filelist=True,\n",
    "                              template = preproc_dir + '/%s/%d_*/*/functional/functional.nii.gz',\n",
    "                              field_template = template,\n",
    "                              base_directory=preproc_dir,\n",
    "                              infields=['subjid','timepoint'], \n",
    "                              template_args={'func':[['subjid','timepoint']],\n",
    "                                             'struct':[['subjid','timepoint']],\n",
    "                                             'timing':[['subjid','timepoint']]}), \n",
    "                  name='filegrabber')\n",
    "\n",
    "substitutions = [('_subjid_', ''),\n",
    "                 ('_timepoint_','_t')]\n",
    "datasink = Node(DataSink(substitutions=substitutions, \n",
    "                         base_directory=preproc_dir,\n",
    "                         container=preproc_dir), \n",
    "                name='datasink')"
   ]
  },
  {
   "cell_type": "code",
   "execution_count": null,
   "metadata": {
    "collapsed": true
   },
   "outputs": [],
   "source": [
    "# Structural processing\n",
    "\n",
    "# Use autorecon1 to skullstrip inputs: T1_files and subject_id; output: brainmask\n",
    "fs_preproc = Node(ReconAll(directive='autorecon1',\n",
    "                           flags='gcut', \n",
    "                           openmp=4), \n",
    "                  name='fs_preproc')\n",
    "\n",
    "# simultaneously convert to nifti and reslice inputs: in_file outputs: out_file\n",
    "convert_anat = Node(MRIConvert(vox_size=(3,3,3), \n",
    "                               in_type='mgz',\n",
    "                               out_file='anat.nii',\n",
    "                               out_type='nii'), \n",
    "                    name='convert_anat')\n",
    "\n",
    "# reorient to standard space inputs: in_file, outputs: out_file\n",
    "reorient_anat = Node(Reorient2Std(), \n",
    "                     name='reorient_anat')\n",
    "\n",
    "# binarize anat, dilate 2 and erode 1 to fill gaps. Inputs: in_file; outputs: binary_file\n",
    "binarize_anat = Node(Binarize(dilate=2,\n",
    "                              erode=1, \n",
    "                              min=1,\n",
    "                              max=300), \n",
    "                     name='binarize_anat')"
   ]
  },
  {
   "cell_type": "code",
   "execution_count": null,
   "metadata": {
    "collapsed": true
   },
   "outputs": [],
   "source": [
    "# Functional processing\n",
    "\n",
    "# Reorient each functional run in_file, out_file\n",
    "reorient_func = Node(Reorient2Std(), \n",
    "                     name='reorient_func')\n",
    "reorient_func.iterable = [('in_file','in_file')]\n",
    "\n",
    "# Realign each volume to first volume in each run: in_file; out_file, par_file\n",
    "realign_runs = Node(MCFLIRT(out_file='rfunc.nii'), \n",
    "                    name='realign_runs')\n",
    "\n",
    "# Slice time correction: in_file, slice_time_corrected_file\n",
    "slicetime = Node(SliceTimer(time_repetition=TR, \n",
    "                            interleaved=interleaved, \n",
    "                            slice_direction=slice_direction, \n",
    "                            out_file='stfunc.nii'), \n",
    "                 name='slicetime')\n",
    "\n",
    "# Despiking and Intensity norm?\n",
    "norm_run_intensities = Node(Function(), \n",
    "                            name='norm_run_intensities')\n",
    "\n",
    "# Merge all 4 runs: in_files, merged_file\n",
    "merge_func = Node(Merge(dimension='t',\n",
    "                        merged_file='mergeed_func.nii'),\n",
    "                  joinsource='slicetime',\n",
    "                  joinfield='in_files',\n",
    "                  name='merge_func')\n",
    "\n",
    "# Realign each volume to first volume: in_file; out_file, par_file\n",
    "realign_merged = Node(MCFLIRT(out_file='rmerged.nii',\n",
    "                              ref_vol=0), \n",
    "                      name='realign_merged')\n",
    "\n",
    "reg_func_to_anat = Node(FLIRT(), \n",
    "                        name='reg_func_to_anat')\n",
    "\n",
    "apply_reg_to_func = Node(FLIRT(), \n",
    "                         name='apply_reg_to_func')"
   ]
  },
  {
   "cell_type": "code",
   "execution_count": null,
   "metadata": {
    "collapsed": true
   },
   "outputs": [],
   "source": [
    "# QC nodes\n"
   ]
  },
  {
   "cell_type": "code",
   "execution_count": null,
   "metadata": {
    "collapsed": true
   },
   "outputs": [],
   "source": [
    "# workflow\n",
    "preprocflow = Workflow(name='preprocflow')\n",
    "preprocflow.connect([(infosource,filegrabber,[('subjid','subjid')]),\n",
    "                     (infosource,filegrabber,[('timepoint','timepoint')]),\n",
    "                     (filegrabber,fs_preproc,[('struct','T1_files')]),\n",
    "                     (infosource,fs_preproc,[('subjid','subject_id')]),\n",
    "                     (fs_preproc, convert_anat,[('brainmask','in_file')]),\n",
    "                     (convert_anat,reorient_anat,[('out_file','in_file')]),\n",
    "                     (reorient_anat, binarize_anat,[('out_file','in_file')]),\n",
    "                     \n",
    "                     (filegrabber,reorient_func,[('func','in_file')]),\n",
    "                     \n",
    "                     \n",
    "                     (reorient_anat,datasink,[('out_file','preproc_anat')]),\n",
    "                     (binarize_anat,datasink,[('binary_file','binarized_anat')])\n",
    "                    ])\n",
    "preprocflow.base_dir = workflow_dir\n",
    "preprocflow.write_graph(graph2use='flat')\n",
    "preprocflow.run('MultiProc', plugin_args={'n_procs': 1}"
   ]
  }
 ],
 "metadata": {
  "kernelspec": {
   "display_name": "Python 2",
   "language": "python",
   "name": "python2"
  },
  "language_info": {
   "codemirror_mode": {
    "name": "ipython",
    "version": 2
   },
   "file_extension": ".py",
   "mimetype": "text/x-python",
   "name": "python",
   "nbconvert_exporter": "python",
   "pygments_lexer": "ipython2",
   "version": "2.7.12"
  }
 },
 "nbformat": 4,
 "nbformat_minor": 2
}
