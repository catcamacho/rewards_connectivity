{
 "cells": [
  {
   "cell_type": "code",
   "execution_count": null,
   "metadata": {
    "collapsed": true
   },
   "outputs": [],
   "source": [
    "# Import stuff\n",
    "from os.path import join\n",
    "from nipype.pipeline.engine import Workflow, Node, MapNode\n",
    "from nipype.interfaces.utility import IdentityInterface, Function\n",
    "from nipype.interfaces.io import SelectFiles, DataSink, DataGrabber\n",
    "from nipype.interfaces.fsl.utils import Merge, ImageMeants\n",
    "from nipype.interfaces.fsl.model import Randomise, Cluster\n",
    "from nipype.interfaces.freesurfer.model import Binarize\n",
    "from nipype.interfaces.fsl.maths import ApplyMask\n",
    "from pandas import DataFrame, Series\n",
    "\n",
    "# MATLAB setup - Specify path to current SPM and the MATLAB's default mode\n",
    "from nipype.interfaces.matlab import MatlabCommand\n",
    "MatlabCommand.set_default_paths('~/spm12/toolbox')\n",
    "MatlabCommand.set_default_matlab_cmd(\"matlab -nodesktop -nosplash\")\n",
    "\n",
    "# FSL set up- change default file output type\n",
    "from nipype.interfaces.fsl import FSLCommand\n",
    "FSLCommand.set_default_output_type('NIFTI')\n",
    "\n",
    "# Set study variables\n",
    "#analysis_home = '/Users/catcamacho/Box/LNCD_rewards_connectivity'\n",
    "analysis_home = '/Volumes/Zeus/Cat'\n",
    "#raw_dir = analysis_home + '/subjs'\n",
    "raw_dir = '/Volumes/Phillips/bars/APWF_bars/subjs'\n",
    "preproc_dir = analysis_home + '/proc/preprocessing'\n",
    "firstlevel_dir = analysis_home + '/proc/firstlevel'\n",
    "secondlevel_dir = analysis_home + '/proc/secondlevel'\n",
    "workflow_dir = analysis_home + '/workflows'\n",
    "template_dir = analysis_home + '/templates'\n",
    "MNI_template = template_dir + '/MNI152_T1_1mm_brain.nii'\n",
    "\n",
    "#pull subject info to iter over\n",
    "subject_info = DataFrame.from_csv(analysis_home + '/misc/subjs.csv')\n",
    "subjects_list = subject_info['SubjID'].tolist()\n",
    "timepoints = subject_info['Timepoint'].tolist()\n",
    "\n",
    "conditions = ['punish','neutral']\n",
    "seed_names = ['L_amyg','R_amyg']\n",
    "\n",
    "# Group analysis files\n",
    "MCage = analysis_home + '/misc/MCage_groups.mat'\n",
    "MCageSq = analysis_home + '/misc/MCageSq_groups.mat'\n",
    "nonDevSex = analysis_home + '/misc/NonDevSex_groups.mat'\n",
    "MCage_con = analysis_home + '/misc/tcon_MCage.con'\n",
    "MCageSq_con = analysis_home + '/misc/tcon_MCageSq.con'\n",
    "nonDevSex_con = analysis_home + '/misc/tcon_NonDevSex.con'\n",
    "MCageInv = analysis_home + '/misc/MCageInv_groups.mat'\n",
    "MCageInv_con = analysis_home + '/misc/tcon_MCageInv.con'\n",
    "\n",
    "group_designs = [MCage, MCageSq, nonDevSex, MCageInv]\n",
    "contrasts = [MCage_con, MCageSq_con, nonDevSex_con, MCageInv_con]"
   ]
  },
  {
   "cell_type": "code",
   "execution_count": null,
   "metadata": {
    "collapsed": true
   },
   "outputs": [],
   "source": [
    "## Functions for mixed effect linear modeling\n",
    "\n",
    "def mri_lmem(model,subject_dataframe):\n",
    "    \n",
    "    return(output_files)\n",
    "\n",
    "\n",
    "def make_subject_dataframe(brain_data, subject_data):\n",
    "    \n",
    "    return(subject_dataframe)"
   ]
  },
  {
   "cell_type": "code",
   "execution_count": null,
   "metadata": {
    "collapsed": true
   },
   "outputs": [],
   "source": [
    "## Data handling nodes\n",
    "\n",
    "conditionsource = Node(IdentityInterface(fields=['condition','seed']),\n",
    "                       name='conditionsource')\n",
    "conditionsource.iterables = [('condition',conditions),('seed', seed_names)]\n",
    "\n",
    "# Grab the subject beta maps \n",
    "time_template = {'beta_maps':firstlevel_dir + '/smoothedMNI_conn_beta/*/%s/%s/betas_flirt_smooth_masked.nii'}\n",
    "betamap_grabber = Node(DataGrabber(sort_filelist=True,\n",
    "                                   field_template = time_template,\n",
    "                                   base_directory=firstlevel_dir,\n",
    "                                   template=firstlevel_dir + '/smoothedMNI_conn_beta/*/%s/%s/betas_flirt_smooth_masked.nii',\n",
    "                                   infields=['condition','seed'],\n",
    "                                   template_args={'beta_maps':[['condition','seed']]}), \n",
    "                       name='betamap_grabber')\n",
    "\n",
    "# Sink relavent data\n",
    "substitutions = [('_condition_',''),\n",
    "                 ('_seed_',''), \n",
    "                 ('_design_mat_..Volumes..Zeus..Cat..misc..',''), \n",
    "                 ('_tcon_..Volumes..Zeus..Cat..misc..tcon_','')]\n",
    "datasink = Node(DataSink(substitutions=substitutions, \n",
    "                         base_directory=secondlevel_dir,\n",
    "                         container=secondlevel_dir), \n",
    "                name='datasink')"
   ]
  },
  {
   "cell_type": "code",
   "execution_count": null,
   "metadata": {
    "collapsed": true
   },
   "outputs": [],
   "source": [
    "## Analysis nodes\n",
    "\n",
    "# merge beta maps into one file\n",
    "merge = Node(Merge(dimension = 't'),name='merge')\n",
    "\n",
    "# Carry out t tests with permutation testing\n",
    "randomise = Node(Randomise(tfce=True,  \n",
    "                           num_perm=1000),\n",
    "                 name='randomise')\n",
    "randomise.iterables = [('design_mat',group_designs), ('tcon', contrasts)]\n",
    "randomise.synchronize = True\n",
    "\n",
    "# Threshold the t corrected p files\n",
    "binarize_pmap = MapNode(Binarize(min=0.95), name = 'binarize_pmap', iterfield=['in_file'])\n",
    "\n",
    "mask_tstat = MapNode(ApplyMask(),name='mask_tstat', iterfield=['in_file','mask_file'])\n",
    "\n",
    "# Cluster the results\n",
    "cluster_results = MapNode(Cluster(threshold=2,\n",
    "                                  out_index_file=True,\n",
    "                                  out_localmax_txt_file=True),\n",
    "                          name='cluster_results', \n",
    "                          iterfield = ['in_file'])"
   ]
  },
  {
   "cell_type": "code",
   "execution_count": null,
   "metadata": {
    "collapsed": true
   },
   "outputs": [],
   "source": [
    "groupanalysisflow = Workflow(name='groupanalysisflow')\n",
    "groupanalysisflow.connect([(conditionsource, betamap_grabber, [('condition','condition'),\n",
    "                                                               ('seed','seed')]),\n",
    "                           (betamap_grabber, merge, [('beta_maps','in_files')]),\n",
    "                           (merge, randomise, [('merged_file','in_file')]),\n",
    "                           (randomise, binarize_pmap, [('t_corrected_p_files','in_file')]),\n",
    "                           (binarize_pmap, mask_tstat, [('binary_file','mask_file')]),\n",
    "                           (randomise, mask_tstat, [('tstat_files','in_file')]),\n",
    "                           (mask_tstat, cluster_results, [('out_file','in_file')]),\n",
    "                           \n",
    "                           (randomise, datasink, [('t_corrected_p_files','t_corrected_p_files'),\n",
    "                                                  ('tstat_files','tstat_files')]),\n",
    "                           (mask_tstat, datasink,[('out_file','masked_tstat_files')]),\n",
    "                           (cluster_results, datasink, [('index_file','cluster_index_file'), \n",
    "                                                        ('localmax_txt_file','cluster_localmax_txt_file')])\n",
    "                          ])\n",
    "groupanalysisflow.base_dir = workflow_dir\n",
    "groupanalysisflow.write_graph(graph2use='flat')\n",
    "groupanalysisflow.run('MultiProc', plugin_args={'n_procs':24})"
   ]
  }
 ],
 "metadata": {
  "kernelspec": {
   "display_name": "Python 2",
   "language": "python",
   "name": "python2"
  },
  "language_info": {
   "codemirror_mode": {
    "name": "ipython",
    "version": 2
   },
   "file_extension": ".py",
   "mimetype": "text/x-python",
   "name": "python",
   "nbconvert_exporter": "python",
   "pygments_lexer": "ipython2",
   "version": "2.7.11"
  }
 },
 "nbformat": 4,
 "nbformat_minor": 2
}
