{
 "cells": [
  {
   "cell_type": "code",
   "execution_count": null,
   "metadata": {
    "collapsed": true
   },
   "outputs": [],
   "source": [
    "# Import stuff\n",
    "from os.path import join\n",
    "from nipype.pipeline.engine import Workflow, Node\n",
    "from nipype.interfaces.utility import IdentityInterface, Function\n",
    "from nipype.interfaces.io import SelectFiles, DataSink, DataGrabber\n",
    "from pandas import DataFrame, Series\n",
    "\n",
    "# MATLAB setup - Specify path to current SPM and the MATLAB's default mode\n",
    "from nipype.interfaces.matlab import MatlabCommand\n",
    "MatlabCommand.set_default_paths('~/spm12/toolbox')\n",
    "MatlabCommand.set_default_matlab_cmd(\"matlab -nodesktop -nosplash\")\n",
    "\n",
    "# FSL set up- change default file output type\n",
    "from nipype.interfaces.fsl import FSLCommand\n",
    "FSLCommand.set_default_output_type('NIFTI')\n",
    "\n",
    "# Set study variables\n",
    "analysis_home = '/Users/catcamacho/Box/LNCD_rewards_connectivity'\n",
    "#analysis_home = '/Volumes/Phillips/bars/Cat'\n",
    "preproc_dir = analysis_home + '/subjs'\n",
    "raw_dir = analysis_home + '/subjs'\n",
    "#raw_dir = '/Volumes/Phillips/bars/APWF_bars/subjs'\n",
    "preproc_dir = analysis_home + '/proc/preprocessing'\n",
    "firstlevel_dir = analysis_home + '/proc/firstlevel'\n",
    "secondlevel_dir = analysis_home + '/proc/secondlevel'\n",
    "workflow_dir = analysis_home + '/workflows'\n",
    "\n",
    "#pull subject info to iter over\n",
    "#subject_info = DataFrame.from_csv(analysis_home + '/misc/subjs.csv')\n",
    "#subjects_list = subject_info['SubjID'].tolist()\n",
    "#timepoints = subject_info['Timepoint'].tolist()\n",
    "\n",
    "subjects_list = ['10766']\n",
    "timepoints = [1]\n",
    "\n",
    "# Seed locations and seed list\n",
    "seed_dir = analysis_home + '/seeds'\n",
    "L_amyg = seed_dir + '/L_amyg_anatomical.nii'\n",
    "R_amyg = seed_dir + '/R_amyg_anatomical.nii'\n",
    "\n",
    "seeds = [L_amyg, R_amyg]"
   ]
  },
  {
   "cell_type": "code",
   "execution_count": null,
   "metadata": {
    "collapsed": true
   },
   "outputs": [],
   "source": [
    "# Data handling nodes\n",
    "infosource = Node(IdentityInterface(fields=['subjid','timepoint']), \n",
    "                  name='infosource')\n",
    "infosource.iterables = [('subjid', subjects_list),('timepoint', timepoints)]\n",
    "infosource.synchronize = True\n",
    "\n",
    "#grab timing files\n",
    "time_template = {'timing':raw_dir + '/%s/%d_*/timing/*score_timing.txt'}\n",
    "timegrabber = Node(DataGrabber(sort_filelist=True,\n",
    "                               template = raw_dir + '/%s/%d_*/timing/*score_timing.txt',\n",
    "                               field_template = time_template,\n",
    "                               base_directory=raw_dir,\n",
    "                               infields=['subjid','timepoint'], \n",
    "                               template_args={'timing':[['subjid','timepoint']]}), \n",
    "                   name='timegrabber')\n",
    "\n",
    "# Grab niftis\n",
    "template = {'struct':preproc_dir + '/preproc_anat/{subjid}_t{timepoint}/reoriented_anat.nii',\n",
    "            'func': preproc_dir + '/preproc_func/{subjid}_t{timepoint}/func_filtered.nii'}\n",
    "datasource = Node(SelectFiles(template), \n",
    "                  name = 'datasource')\n",
    "\n",
    "#sink important data\n",
    "substitutions = [('_subjid_', ''),\n",
    "                 ('_timepoint_','_t')]\n",
    "datasink = Node(DataSink(substitutions=substitutions, \n",
    "                         base_directory=firstlevel_dir,\n",
    "                         container=firstlevel_dir), \n",
    "                name='datasink')"
   ]
  },
  {
   "cell_type": "code",
   "execution_count": null,
   "metadata": {
    "collapsed": true
   },
   "outputs": [],
   "source": [
    "# Extract timing for Beta Series Method \n",
    "def timing_bars_punishment(run_timing_list):\n",
    "    from os.path import abspath\n",
    "    from pandas import DataFrame,Series,read_table,concat\n",
    "\n",
    "    run_timing_list = sorted(run_timing_list)\n",
    "\n",
    "    dfs = [ read_table(i,sep=' ') for i in run_timing_list ]\n",
    "    k=1\n",
    "    for df in dfs:\n",
    "        df.loc[:,'runNum'] = Series(k, index = df.index)\n",
    "        df.loc[:,'time_hyp'] = (k-1)*453 + df.loc[:,'time_hyp']\n",
    "        k = k+1\n",
    "    df_full = concat(dfs)\n",
    "    df_full = df_full.sort(['runNum','time_hyp'], ascending=[1,1])\n",
    "    df_responded = df_full[df_full.loc[:,'Count'] == 1]\n",
    "    df_responded = df_responded[df_responded.loc[:,'catch']==0]\n",
    "\n",
    "    df_punish = df_responded[df_responded.loc[:,'cond']=='punish']\n",
    "    df_reward = df_responded[df_responded.loc[:,'cond']=='reward']\n",
    "    df_neutral = df_responded[df_responded.loc[:,'cond']=='neutral']\n",
    "    return(timing_files_list)"
   ]
  },
  {
   "cell_type": "code",
   "execution_count": 38,
   "metadata": {
    "collapsed": false,
    "scrolled": false
   },
   "outputs": [
    {
     "name": "stdout",
     "output_type": "stream",
     "text": [
      "     trial    lat  Count  time_hyp     cond  stim  catch  runNum\n",
      "0        1  361.0      1       0.0  neutral   cue      0       1\n",
      "1        1  361.0      1       1.5  neutral  prep      0       1\n",
      "2        1  361.0      1       3.0  neutral   sac      0       1\n",
      "3        1  361.0      1       4.5      ITI   fix      0       1\n",
      "5        2  373.0      1       6.0   punish   cue      0       1\n",
      "6        2  373.0      1       7.5   punish  prep      0       1\n",
      "7        2  373.0      1       9.0   punish   sac      0       1\n",
      "4        2  373.0      1      10.5      ITI   fix      0       1\n",
      "8        3  337.0      1      12.0   reward   cue      0       1\n",
      "9        3  337.0      1      13.5   reward  prep      0       1\n",
      "10       3  337.0      1      15.0   reward   sac      0       1\n",
      "11       3  337.0      1      16.5      ITI   fix      0       1\n",
      "12       3  337.0      1      18.0      ITI   fix      0       1\n",
      "13       3  337.0      1      19.5      ITI   fix      0       1\n",
      "14       3  337.0      1      21.0   punish   cue      1       1\n",
      "15       3  337.0      1      22.5      ITI   fix      1       1\n",
      "16       4  445.0      1      24.0  neutral   cue      0       1\n",
      "17       4  445.0      1      25.5  neutral  prep      0       1\n",
      "18       4  445.0      1      27.0  neutral   sac      0       1\n",
      "19       4  445.0      1      28.5      ITI   fix      0       1\n",
      "20       4  445.0      1      30.0  neutral   cue      2       1\n",
      "21       4  445.0      1      31.5  neutral  prep      2       1\n",
      "22       4  445.0      1      33.0      ITI   fix      2       1\n",
      "23       4  445.0      1      34.5      ITI   fix      2       1\n",
      "24       4  445.0      1      36.0      ITI   fix      2       1\n",
      "25       4  445.0      1      37.5      ITI   fix      2       1\n",
      "26       4  445.0      1      39.0      ITI   fix      2       1\n",
      "27       4  445.0      1      40.5      ITI   fix      2       1\n",
      "28       5  377.0      1      42.0  neutral   cue      0       1\n",
      "29       5  377.0      1      43.5  neutral  prep      0       1\n",
      "..     ...    ...    ...       ...      ...   ...    ...     ...\n",
      "272     42  361.0      1    1767.0   reward   cue      0       4\n",
      "273     42  361.0      1    1768.5   reward  prep      0       4\n",
      "274     42  361.0      1    1770.0   reward   sac      0       4\n",
      "275     42  361.0      1    1771.5      ITI   fix      0       4\n",
      "276     42  361.0      1    1773.0      ITI   fix      0       4\n",
      "277     42  361.0      1    1774.5      ITI   fix      0       4\n",
      "278     42  361.0      1    1776.0  neutral   cue      1       4\n",
      "279     42  361.0      1    1777.5      ITI   fix      1       4\n",
      "280     42  361.0      1    1779.0  neutral   cue      1       4\n",
      "281     42  361.0      1    1780.5      ITI   fix      1       4\n",
      "282     42  361.0      1    1782.0      ITI   fix      1       4\n",
      "283     42  361.0      1    1783.5      ITI   fix      1       4\n",
      "284     42  361.0      1    1785.0      ITI   fix      1       4\n",
      "285     42  361.0      1    1786.5   reward   cue      1       4\n",
      "286     42  361.0      1    1788.0      ITI   fix      1       4\n",
      "287     42  361.0      1    1789.5   punish   cue      2       4\n",
      "288     42  361.0      1    1791.0   punish  prep      2       4\n",
      "289     42  361.0      1    1792.5      ITI   fix      2       4\n",
      "290     42  361.0      1    1794.0      ITI   fix      2       4\n",
      "291     42  361.0      1    1795.5      ITI   fix      2       4\n",
      "292     42  361.0      1    1797.0      ITI   fix      2       4\n",
      "293     42  361.0      1    1798.5      ITI   fix      2       4\n",
      "294     42  361.0      1    1800.0      ITI   fix      2       4\n",
      "295     42  361.0      1    1801.5      ITI   fix      2       4\n",
      "296     42  361.0      1    1803.0      ITI   fix      2       4\n",
      "297     42  361.0      1    1804.5      ITI   fix      2       4\n",
      "298     42  361.0      1    1806.0      ITI   fix      2       4\n",
      "299     42  361.0      1    1807.5      ITI   fix      2       4\n",
      "300     42  361.0      1    1809.0      ITI   fix      2       4\n",
      "301     42  361.0      1    1810.5      ITI   fix      2       4\n",
      "\n",
      "[1205 rows x 8 columns]\n"
     ]
    },
    {
     "name": "stderr",
     "output_type": "stream",
     "text": [
      "/usr/local/lib/python2.7/site-packages/ipykernel/__main__.py:16: FutureWarning: sort(columns=....) is deprecated, use sort_values(by=.....)\n"
     ]
    }
   ],
   "source": [
    "from glob import glob\n",
    "from os.path import abspath\n",
    "from pandas import DataFrame,Series,read_table,concat\n",
    "from math import isnan\n",
    "\n",
    "run_timing_list = glob(\"/Users/catcamacho/Box/LNCD_rewards_connectivity/subjs/10766/3_20130130/timing/*score_timing.txt\")\n",
    "run_timing_list = sorted(run_timing_list)\n",
    "\n",
    "dfs = [ read_table(i,sep=' ') for i in run_timing_list ]\n",
    "k=1\n",
    "for df in dfs:\n",
    "    df.loc[:,'runNum'] = Series(k, index = df.index)\n",
    "    df.loc[:,'time_hyp'] = (k-1)*453 + df.loc[:,'time_hyp']\n",
    "    k = k+1\n",
    "df_full = concat(dfs)\n",
    "df_full = df_full.sort(['runNum','time_hyp'], ascending=[1,1])\n",
    "print(df_full)\n",
    "df_responded = df_full[df_full.loc[:,'Count'] == 1]\n",
    "df_responded = df_responded[df_responded.loc[:,'catch']==0]\n",
    "\n",
    "df_punish = df_responded[df_responded.loc[:,'cond']=='punish']\n",
    "df_reward = df_responded[df_responded.loc[:,'cond']=='reward']\n",
    "df_neutral = df_responded[df_responded.loc[:,'cond']=='neutral']\n",
    "#print(df_reward)\n",
    "#print(df_punish)\n",
    "#print(df_neutral)\n"
   ]
  },
  {
   "cell_type": "code",
   "execution_count": null,
   "metadata": {
    "collapsed": true
   },
   "outputs": [],
   "source": [
    "def create_design_mat(timing_files_list, motion):\n",
    "    "
   ]
  },
  {
   "cell_type": "code",
   "execution_count": null,
   "metadata": {
    "collapsed": true
   },
   "outputs": [],
   "source": [
    "# Set up design matrix\n",
    "\n",
    "# Run GLM\n",
    "\n",
    "# Grab output betas and correlate to ROI\n",
    "\n",
    "# Smooth parameter estimates\n",
    "\n",
    "# Register to MNI space\n",
    "\n",
    "# Extract ROI beta series\n",
    "\n",
    "# Extract beta connectivity\n"
   ]
  },
  {
   "cell_type": "code",
   "execution_count": null,
   "metadata": {
    "collapsed": true
   },
   "outputs": [],
   "source": [
    "# Connect the workflow\n",
    "level1workflow = Workflow(name='level1workflow')\n",
    "level1workflow.connect([(infosource, datasource,[('subjid','subjid')]),\n",
    "                        (infosource, datasource,[('timepoint','timepoint')]),\n",
    "                        (datasource, merge, [('func','in_files')]),\n",
    "                        \n",
    "                        (merge,datasink,[('merged_file','merged_runs')])\n",
    "                       ])\n",
    "level1workflow.base_dir = join(workflow_dir)\n",
    "level1workflow.write_graph(graph2use='flat')\n",
    "level1workflow.run('MultiProc', plugin_args={'n_procs': 1})"
   ]
  },
  {
   "cell_type": "code",
   "execution_count": null,
   "metadata": {
    "collapsed": true
   },
   "outputs": [],
   "source": []
  }
 ],
 "metadata": {
  "kernelspec": {
   "display_name": "Python 2",
   "language": "python",
   "name": "python2"
  },
  "language_info": {
   "codemirror_mode": {
    "name": "ipython",
    "version": 2
   },
   "file_extension": ".py",
   "mimetype": "text/x-python",
   "name": "python",
   "nbconvert_exporter": "python",
   "pygments_lexer": "ipython2",
   "version": "2.7.11"
  }
 },
 "nbformat": 4,
 "nbformat_minor": 2
}
