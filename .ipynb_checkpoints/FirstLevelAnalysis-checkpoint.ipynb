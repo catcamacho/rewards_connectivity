{
 "cells": [
  {
   "cell_type": "code",
   "execution_count": null,
   "metadata": {
    "collapsed": true
   },
   "outputs": [],
   "source": [
    "# Import stuff\n",
    "from os.path import join\n",
    "from nipype.pipeline.engine import Workflow, Node\n",
    "from nipype.interfaces.utility import IdentityInterface, Function\n",
    "from nipype.interfaces.io import SelectFiles, DataSink, DataGrabber, FreeSurferSource\n",
    "from nipype.interfaces.fsl.utils import Merge\n",
    "from pandas import DataFrame, Series\n",
    "\n",
    "# MATLAB setup - Specify path to current SPM and the MATLAB's default mode\n",
    "from nipype.interfaces.matlab import MatlabCommand\n",
    "MatlabCommand.set_default_paths('~/spm12/toolbox')\n",
    "MatlabCommand.set_default_matlab_cmd(\"matlab -nodesktop -nosplash\")\n",
    "\n",
    "# FSL set up- change default file output type\n",
    "from nipype.interfaces.fsl import FSLCommand\n",
    "FSLCommand.set_default_output_type('NIFTI')\n",
    "\n",
    "# FreeSurfer set up - change SUBJECTS_DIR \n",
    "fs_dir = analysis_home + '/freesurfer'\n",
    "FSCommand.set_default_subjects_dir(fs_dir)\n",
    "\n",
    "# Set study variables\n",
    "analysis_home = '/Users/catcamacho/Box/LNCD_rewards_connectivity'\n",
    "preproc_dir = analysis_home + '/subjs'\n",
    "\n",
    "firstlevel_dir = analysis_home + '/proc/firstlevel'\n",
    "secondlevel_dir = analysis_home + '/proc/secondlevel'\n",
    "workflow_dir = analysis_home + '/workflows'\n",
    "\n",
    "#pull subject info to iter over\n",
    "#subject_info = DataFrame.from_csv(analysis_home + '/misc/subjs.csv')\n",
    "#subjects_list = subject_info['SubjID'].tolist()\n",
    "#timepoints = subject_info['Timepoint'].tolist()\n",
    "\n",
    "subjects_list = ['10766','10766','10766']\n",
    "timepoints = [1,2,3]\n",
    "\n",
    "# Seed locations and seed list\n",
    "seed_dir = analysis_home + '/seeds'\n",
    "L_amyg = seed_dir + '/L_amyg_anatomical.nii'\n",
    "R_amyg = seed_dir + '/R_amyg_anatomical.nii'\n",
    "\n",
    "seeds = [L_amyg, R_amyg]"
   ]
  },
  {
   "cell_type": "code",
   "execution_count": null,
   "metadata": {},
   "outputs": [],
   "source": [
    "# Data handling nodes\n",
    "infosource = Node(IdentityInterface(fields=['subjid','timepoint']), \n",
    "                  name='infosource')\n",
    "infosource.iterables = [('subjid', subjects_list),('timepoint', timepoints)]\n",
    "infosource.synchronize = True\n",
    "\n",
    "#grab niftis\n",
    "template = {'func':preproc_dir + '/%s/%d_*/*/functional/nfswdktm_functional_5.nii.gz';\n",
    "            'timing':preproc_dir + '/%s/%d_*/timing/*score_timing.txt'}\n",
    "datasource = Node(DataGrabber(sort_filelist=True,\n",
    "                              template = preproc_dir + '/%s/%d_*/*/functional/nfswdktm_functional_5.nii.gz',\n",
    "                              field_template = template,\n",
    "                              base_directory=preproc_dir,\n",
    "                              infields=['subjid','timepoint'], \n",
    "                              template_args={'func':[['subjid','timepoint']],\n",
    "                                             'timing':[['subjid','timepoint']]}), \n",
    "                  name='datasource')\n",
    "\n",
    "#sink important data\n",
    "substitutions = [('_subjid_', ''),\n",
    "                 ('_timepoint_','_t')]\n",
    "datasink = Node(DataSink(substitutions=substitutions, \n",
    "                         base_directory=firstlevel_dir,\n",
    "                         container=firstlevel_dir), \n",
    "                name='datasink')"
   ]
  },
  {
   "cell_type": "code",
   "execution_count": null,
   "metadata": {
    "collapsed": true
   },
   "outputs": [],
   "source": [
    "# Extract timing for Beta Series Method \n",
    "def timing_bars_punishment(run_timing_list):\n",
    "    from os.path import abspath\n",
    "    from pandas import DataFrame,Series,read_table\n",
    "    \n",
    "    df_full = DataFrame()\n",
    "    k = 1\n",
    "    for i in run_timing_list:\n",
    "        temp = read_table(i,sep=' ')\n",
    "        temp.loc[:,'runNum'] = Series(k, index = temp.index)\n",
    "        df_full.append(temp)\n",
    "        k = k+1\n",
    "    \n",
    "    #sort by timing\n",
    "    df_full = df_full.sort(['runNum','time_hyp'], ascending=[1,1])\n",
    "    \n",
    "    #extract all punishment cues\n",
    "    #extract all punishment prep periods\n",
    "    #Extract all punishment saccades\n",
    "    \n",
    "    #extract all neutral cues\n",
    "    #extract all neutral prep periods\n",
    "    #Extract all neutral saccades\n",
    "    return(timing_files_list)"
   ]
  },
  {
   "cell_type": "code",
   "execution_count": null,
   "metadata": {
    "collapsed": true
   },
   "outputs": [],
   "source": [
    "def create_design_mat(timing_files_list, motion)"
   ]
  },
  {
   "cell_type": "code",
   "execution_count": null,
   "metadata": {
    "collapsed": true
   },
   "outputs": [],
   "source": [
    "#concatenate runs for each timepoint\n",
    "merge = Node(Merge(dimension='t'),\n",
    "             name='merge')\n",
    "\n",
    "# Set up design matrix\n",
    "\n",
    "# Run GLM\n",
    "\n",
    "# Grab output betas and correlate to ROI\n",
    "\n"
   ]
  },
  {
   "cell_type": "code",
   "execution_count": null,
   "metadata": {},
   "outputs": [],
   "source": [
    "# Connect the workflow\n",
    "level1workflow = Workflow(name='level1workflow')\n",
    "level1workflow.connect([(infosource, datasource,[('subjid','subjid')]),\n",
    "                        (infosource, datasource,[('timepoint','timepoint')]),\n",
    "                        (datasource, merge, [('func','in_files')]),\n",
    "                        \n",
    "                        (merge,datasink,[('merged_file','merged_runs')])\n",
    "                       ])\n",
    "level1workflow.base_dir = join(workflow_dir)\n",
    "level1workflow.write_graph(graph2use='flat')\n",
    "level1workflow.run('MultiProc', plugin_args={'n_procs': 1})"
   ]
  },
  {
   "cell_type": "code",
   "execution_count": null,
   "metadata": {
    "collapsed": true
   },
   "outputs": [],
   "source": []
  }
 ],
 "metadata": {
  "kernelspec": {
   "display_name": "Python 2",
   "language": "python",
   "name": "python2"
  },
  "language_info": {
   "codemirror_mode": {
    "name": "ipython",
    "version": 2
   },
   "file_extension": ".py",
   "mimetype": "text/x-python",
   "name": "python",
   "nbconvert_exporter": "python",
   "pygments_lexer": "ipython2",
   "version": "2.7.12"
  }
 },
 "nbformat": 4,
 "nbformat_minor": 2
}
