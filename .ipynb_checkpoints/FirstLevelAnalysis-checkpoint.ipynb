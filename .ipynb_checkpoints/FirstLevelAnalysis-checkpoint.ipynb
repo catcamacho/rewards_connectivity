{
 "cells": [
  {
   "cell_type": "code",
   "execution_count": 1,
   "metadata": {
    "collapsed": true
   },
   "outputs": [],
   "source": [
    "# Import stuff\n",
    "from os.path import join\n",
    "from nipype.pipeline.engine import Workflow, Node\n",
    "from nipype.interfaces.utility import IdentityInterface, Function\n",
    "from nipype.interfaces.io import SelectFiles, DataSink, DataGrabber\n",
    "from nipype.interfaces.fsl.utils import Merge\n",
    "from pandas import DataFrame, Series\n",
    "\n",
    "# MATLAB setup - Specify path to current SPM and the MATLAB's default mode\n",
    "from nipype.interfaces.matlab import MatlabCommand\n",
    "MatlabCommand.set_default_paths('~/spm12/toolbox')\n",
    "MatlabCommand.set_default_matlab_cmd(\"matlab -nodesktop -nosplash\")\n",
    "\n",
    "# FSL set up- change default file output type\n",
    "from nipype.interfaces.fsl import FSLCommand\n",
    "FSLCommand.set_default_output_type('NIFTI')\n",
    "\n",
    "# Set study variables\n",
    "analysis_home = '/Users/catcamacho/Box/LNCD_rewards_connectivity'\n",
    "preproc_dir = analysis_home + '/subjs'\n",
    "\n",
    "firstlevel_dir = analysis_home + '/proc/firstlevel'\n",
    "secondlevel_dir = analysis_home + '/proc/secondlevel'\n",
    "workflow_dir = analysis_home + '/workflows'\n",
    "\n",
    "#pull subject info to iter over\n",
    "#subject_info = DataFrame.from_csv(analysis_home + '/misc/subjs.csv')\n",
    "#subjects_list = subject_info['SubjID'].tolist()\n",
    "#timepoints = subject_info['Timepoint'].tolist()\n",
    "\n",
    "subjects_list = ['10766','10766','10766']\n",
    "timepoints = [1,2,3]\n",
    "\n",
    "# Seed locations and seed list\n",
    "seed_dir = analysis_home + '/seeds'\n",
    "\n",
    "L_amyg = seed_dir + '/L_amyg_anatomical.nii'\n",
    "R_amyg = seed_dir + '/R_amyg_anatomical.nii'\n",
    "\n",
    "seeds = [L_amyg, R_amyg]"
   ]
  },
  {
   "cell_type": "code",
   "execution_count": 5,
   "metadata": {
    "collapsed": false
   },
   "outputs": [],
   "source": [
    "# Data handling nodes\n",
    "infosource = Node(IdentityInterface(fields=['subjid','timepoint']), \n",
    "                  name='infosource')\n",
    "infosource.iterables = [('subjid', subjects_list),('timepoint', timepoints)]\n",
    "infosource.synchronize = True\n",
    "\n",
    "#grab niftis\n",
    "template = {'func':preproc_dir + '/%s/%d_*/*/functional/nfswdktm_functional_5.nii.gz';\n",
    "            'timing':preproc_dir + '/%s/%d_*/timing/*score_timing.txt'}\n",
    "datasource = Node(DataGrabber(sort_filelist=True,\n",
    "                              template = preproc_dir + '/%s/%d_*/*/functional/nfswdktm_functional_5.nii.gz',\n",
    "                              field_template = template,\n",
    "                              base_directory=preproc_dir,\n",
    "                              infields=['subjid','timepoint'], \n",
    "                              template_args={'func':[['subjid','timepoint']],\n",
    "                                             'timing':[['subjid','timepoint']]}), \n",
    "                  name='datasource')\n",
    "\n",
    "#sink important data\n",
    "substitutions = [('_subjid_', ''),\n",
    "                 ('_timepoint_','_t')]\n",
    "datasink = Node(DataSink(substitutions=substitutions, \n",
    "                         base_directory=firstlevel_dir,\n",
    "                         container=firstlevel_dir), \n",
    "                name='datasink')"
   ]
  },
  {
   "cell_type": "code",
   "execution_count": null,
   "metadata": {
    "collapsed": true
   },
   "outputs": [],
   "source": [
    "# Extract timing for Beta Series Method \n",
    "def timing_punishment(run_timing_list):\n",
    "    \n",
    "    return(timing_matrix)"
   ]
  },
  {
   "cell_type": "code",
   "execution_count": 6,
   "metadata": {
    "collapsed": true
   },
   "outputs": [],
   "source": [
    "#concatenate runs for each timepoint\n",
    "merge = Node(Merge(dimension='t'),\n",
    "             name='merge')\n",
    "\n",
    "# Set up design matrix\n",
    "\n",
    "# GLM\n",
    "\n",
    "# Grab output betas and run stuff"
   ]
  },
  {
   "cell_type": "code",
   "execution_count": 7,
   "metadata": {
    "collapsed": false
   },
   "outputs": [
    {
     "name": "stdout",
     "output_type": "stream",
     "text": [
      "170906-11:40:00,770 workflow INFO:\n",
      "\t Generated workflow graph: /Users/catcamacho/Box/LNCD_rewards_connectivity/proc/workflows/level1workflow/graph.dot.png (graph2use=flat, simple_form=True).\n",
      "170906-11:40:01,37 workflow INFO:\n",
      "\t Workflow level1workflow settings: ['check', 'execution', 'logging']\n",
      "170906-11:40:01,95 workflow INFO:\n",
      "\t Running in parallel.\n",
      "170906-11:40:01,100 workflow INFO:\n",
      "\t Executing: datasource.a2 ID: 0\n",
      "170906-11:40:01,106 workflow INFO:\n",
      "\t Executing node datasource.a2 in dir: /Users/catcamacho/Box/LNCD_rewards_connectivity/proc/workflows/level1workflow/_subjid_10766_timepoint_3/datasource\n",
      "170906-11:40:01,176 workflow INFO:\n",
      "\t [Job finished] jobname: datasource.a2 jobid: 0\n",
      "170906-11:40:01,179 workflow INFO:\n",
      "\t Executing: datasource.a1 ID: 1\n",
      "170906-11:40:01,183 workflow INFO:\n",
      "\t Executing node datasource.a1 in dir: /Users/catcamacho/Box/LNCD_rewards_connectivity/proc/workflows/level1workflow/_subjid_10766_timepoint_2/datasource\n",
      "170906-11:40:01,215 workflow INFO:\n",
      "\t [Job finished] jobname: datasource.a1 jobid: 1\n",
      "170906-11:40:01,217 workflow INFO:\n",
      "\t Executing: merge.a1 ID: 2\n",
      "170906-11:40:01,225 workflow INFO:\n",
      "\t Executing node merge.a1 in dir: /Users/catcamacho/Box/LNCD_rewards_connectivity/proc/workflows/level1workflow/_subjid_10766_timepoint_2/merge\n",
      "170906-11:40:01,235 workflow INFO:\n",
      "\t Running: fslmerge -t nfswdktm_functional_5_merged.nii /Users/catcamacho/Box/LNCD_rewards_connectivity/subjs/10766/2_20110915/1/functional/nfswdktm_functional_5.nii.gz /Users/catcamacho/Box/LNCD_rewards_connectivity/subjs/10766/2_20110915/2/functional/nfswdktm_functional_5.nii.gz /Users/catcamacho/Box/LNCD_rewards_connectivity/subjs/10766/2_20110915/3/functional/nfswdktm_functional_5.nii.gz /Users/catcamacho/Box/LNCD_rewards_connectivity/subjs/10766/2_20110915/4/functional/nfswdktm_functional_5.nii.gz\n",
      "170906-11:40:17,370 workflow INFO:\n",
      "\t [Job finished] jobname: merge.a1 jobid: 2\n",
      "170906-11:40:17,373 workflow INFO:\n",
      "\t Executing: datasource.a0 ID: 3\n",
      "170906-11:40:17,377 workflow INFO:\n",
      "\t Executing node datasource.a0 in dir: /Users/catcamacho/Box/LNCD_rewards_connectivity/proc/workflows/level1workflow/_subjid_10766_timepoint_1/datasource\n",
      "170906-11:40:17,408 workflow INFO:\n",
      "\t [Job finished] jobname: datasource.a0 jobid: 3\n",
      "170906-11:40:17,411 workflow INFO:\n",
      "\t Executing: merge.a0 ID: 4\n",
      "170906-11:40:17,417 workflow INFO:\n",
      "\t Executing node merge.a0 in dir: /Users/catcamacho/Box/LNCD_rewards_connectivity/proc/workflows/level1workflow/_subjid_10766_timepoint_1/merge\n",
      "170906-11:40:17,426 workflow INFO:\n",
      "\t Running: fslmerge -t nfswdktm_functional_5_merged.nii /Users/catcamacho/Box/LNCD_rewards_connectivity/subjs/10766/1_20091201/1/functional/nfswdktm_functional_5.nii.gz /Users/catcamacho/Box/LNCD_rewards_connectivity/subjs/10766/1_20091201/2/functional/nfswdktm_functional_5.nii.gz /Users/catcamacho/Box/LNCD_rewards_connectivity/subjs/10766/1_20091201/3/functional/nfswdktm_functional_5.nii.gz /Users/catcamacho/Box/LNCD_rewards_connectivity/subjs/10766/1_20091201/4/functional/nfswdktm_functional_5.nii.gz\n",
      "170906-11:40:33,670 workflow INFO:\n",
      "\t [Job finished] jobname: merge.a0 jobid: 4\n",
      "170906-11:40:33,673 workflow INFO:\n",
      "\t Executing: datasink.a1 ID: 5\n",
      "170906-11:40:33,682 workflow INFO:\n",
      "\t Executing node datasink.a1 in dir: /Users/catcamacho/Box/LNCD_rewards_connectivity/proc/workflows/level1workflow/_subjid_10766_timepoint_2/datasink\n",
      "170906-11:40:33,695 interface INFO:\n",
      "\t sub: /Users/catcamacho/Box/LNCD_rewards_connectivity/proc/firstlevel/merged_runs/_subjid_10766_timepoint_2/nfswdktm_functional_5_merged.nii -> /Users/catcamacho/Box/LNCD_rewards_connectivity/proc/firstlevel/merged_runs/10766_t2/nfswdktm_functional_5_merged.nii\n",
      "170906-11:40:33,713 workflow INFO:\n",
      "\t [Job finished] jobname: datasink.a1 jobid: 5\n",
      "170906-11:40:33,716 workflow INFO:\n",
      "\t Executing: merge.a2 ID: 6\n",
      "170906-11:40:33,723 workflow INFO:\n",
      "\t Executing node merge.a2 in dir: /Users/catcamacho/Box/LNCD_rewards_connectivity/proc/workflows/level1workflow/_subjid_10766_timepoint_3/merge\n",
      "170906-11:40:33,731 workflow INFO:\n",
      "\t Running: fslmerge -t nfswdktm_functional_5_merged.nii /Users/catcamacho/Box/LNCD_rewards_connectivity/subjs/10766/3_20130130/1/functional/nfswdktm_functional_5.nii.gz /Users/catcamacho/Box/LNCD_rewards_connectivity/subjs/10766/3_20130130/2/functional/nfswdktm_functional_5.nii.gz /Users/catcamacho/Box/LNCD_rewards_connectivity/subjs/10766/3_20130130/3/functional/nfswdktm_functional_5.nii.gz /Users/catcamacho/Box/LNCD_rewards_connectivity/subjs/10766/3_20130130/4/functional/nfswdktm_functional_5.nii.gz\n",
      "170906-11:40:50,227 workflow INFO:\n",
      "\t [Job finished] jobname: merge.a2 jobid: 6\n",
      "170906-11:40:50,230 workflow INFO:\n",
      "\t Executing: datasink.a0 ID: 7\n",
      "170906-11:40:50,238 workflow INFO:\n",
      "\t Executing node datasink.a0 in dir: /Users/catcamacho/Box/LNCD_rewards_connectivity/proc/workflows/level1workflow/_subjid_10766_timepoint_1/datasink\n",
      "170906-11:40:50,248 interface INFO:\n",
      "\t sub: /Users/catcamacho/Box/LNCD_rewards_connectivity/proc/firstlevel/merged_runs/_subjid_10766_timepoint_1/nfswdktm_functional_5_merged.nii -> /Users/catcamacho/Box/LNCD_rewards_connectivity/proc/firstlevel/merged_runs/10766_t1/nfswdktm_functional_5_merged.nii\n",
      "170906-11:40:50,272 workflow INFO:\n",
      "\t [Job finished] jobname: datasink.a0 jobid: 7\n",
      "170906-11:40:50,275 workflow INFO:\n",
      "\t Executing: datasink.a2 ID: 8\n",
      "170906-11:40:50,284 workflow INFO:\n",
      "\t Executing node datasink.a2 in dir: /Users/catcamacho/Box/LNCD_rewards_connectivity/proc/workflows/level1workflow/_subjid_10766_timepoint_3/datasink\n",
      "170906-11:40:50,299 interface INFO:\n",
      "\t sub: /Users/catcamacho/Box/LNCD_rewards_connectivity/proc/firstlevel/merged_runs/_subjid_10766_timepoint_3/nfswdktm_functional_5_merged.nii -> /Users/catcamacho/Box/LNCD_rewards_connectivity/proc/firstlevel/merged_runs/10766_t3/nfswdktm_functional_5_merged.nii\n",
      "170906-11:40:50,316 workflow INFO:\n",
      "\t [Job finished] jobname: datasink.a2 jobid: 8\n"
     ]
    },
    {
     "data": {
      "text/plain": [
       "<networkx.classes.digraph.DiGraph at 0x10a9c7450>"
      ]
     },
     "execution_count": 7,
     "metadata": {},
     "output_type": "execute_result"
    }
   ],
   "source": [
    "# Connect the workflow\n",
    "level1workflow = Workflow(name='level1workflow')\n",
    "level1workflow.connect([(infosource, datasource,[('subjid','subjid')]),\n",
    "                        (infosource, datasource,[('timepoint','timepoint')]),\n",
    "                        (datasource, merge, [('func','in_files')]),\n",
    "                        \n",
    "                        (merge,datasink,[('merged_file','merged_runs')])\n",
    "                       ])\n",
    "level1workflow.base_dir = join(workflow_dir)\n",
    "level1workflow.write_graph(graph2use='flat')\n",
    "level1workflow.run('MultiProc', plugin_args={'n_procs': 1})"
   ]
  },
  {
   "cell_type": "code",
   "execution_count": null,
   "metadata": {
    "collapsed": true
   },
   "outputs": [],
   "source": []
  }
 ],
 "metadata": {
  "kernelspec": {
   "display_name": "Python 2",
   "language": "python",
   "name": "python2"
  },
  "language_info": {
   "codemirror_mode": {
    "name": "ipython",
    "version": 2
   },
   "file_extension": ".py",
   "mimetype": "text/x-python",
   "name": "python",
   "nbconvert_exporter": "python",
   "pygments_lexer": "ipython2",
   "version": "2.7.11"
  }
 },
 "nbformat": 4,
 "nbformat_minor": 2
}
