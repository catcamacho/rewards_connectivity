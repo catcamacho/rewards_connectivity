{
 "cells": [
  {
   "cell_type": "code",
   "execution_count": null,
   "metadata": {
    "collapsed": true
   },
   "outputs": [],
   "source": [
    "from nipype.pipeline.engine import Workflow, Node\n",
    "from nipype.interfaces.utility import IdentityInterface, Function\n",
    "from nipype.interfaces.io import SelectFiles, DataSink, DataGrabber\n",
    "from pandas import DataFrame, Series\n",
    "analysis_home = '/Users/catcamacho/Box/LNCD_rewards_connectivity'\n",
    "#analysis_home = '/Volumes/Zeus/Cat'\n",
    "raw_dir = analysis_home + '/subjs'\n",
    "#raw_dir = '/Volumes/Phillips/bars/APWF_bars/subjs'\n",
    "behavior_dir = analysis_home + '/proc/behavior'\n",
    "\n",
    "#pull subject info to iter over\n",
    "subject_info = DataFrame.from_csv(analysis_home + '/misc/subjs.csv')\n",
    "subjects_list = subject_info['SubjID'].tolist()\n",
    "timepoints = subject_info['Timepoint'].tolist()\n",
    "\n",
    "#subjects_list = [10766]\n",
    "#timepoints = [1]"
   ]
  },
  {
   "cell_type": "code",
   "execution_count": null,
   "metadata": {
    "collapsed": true
   },
   "outputs": [],
   "source": [
    "def timing_bars(run_timing_list, condition, motion, motion_thresh, BOLD_window, subjid, timepoint):\n",
    "    from nipype import config, logging\n",
    "    config.enable_debug_mode()\n",
    "    logging.update_logging(config)\n",
    "    \n",
    "    from pandas import DataFrame,Series,read_table,concat\n",
    "    from nipype.interfaces.base import Bunch\n",
    "    \n",
    "    # Import and organize motion data\n",
    "    motion_df = read_table(motion,delim_whitespace=True,header=None)\n",
    "    mean_translation = motion_df[[3,4,5]].mean(axis=1)\n",
    "    \n",
    "    # Create full task dataframe\n",
    "    run_timing_list = sorted(run_timing_list)\n",
    "    dfs = [ read_table(i,delim_whitespace=True) for i in run_timing_list ]\n",
    "    k=1\n",
    "    for df in dfs:\n",
    "        df.loc[:,'runNum'] = Series(k, index = df.index)\n",
    "        df.loc[:,'time_hyp'] = (k-1)*453 + df.loc[:,'time_hyp']\n",
    "        df.loc[:,'trial'] = (k*100) + df.loc[:,'trial']\n",
    "        k = k+1\n",
    "    df_full = concat(dfs,ignore_index=True)\n",
    "    df_full = df_full.sort(['runNum','time_hyp'], ascending=[1,1])\n",
    "    df_full.loc[:,'motion'] = mean_translation\n",
    "    \n",
    "    # Sort out trials that are both complete and received a response\n",
    "    df_responded = df_full[df_full.loc[:,'Count'] == 1]\n",
    "    df_responded = df_responded[df_responded.loc[:,'catch']==0]\n",
    "\n",
    "    # Sort out trial onsets for the condition of interest\n",
    "    df_condition = df_responded[df_responded.loc[:,'cond']==condition]\n",
    "    df_condition = df_condition[df_condition.loc[:,'stim']=='cue']\n",
    "    \n",
    "    # Add additional label to the trials with high motion\n",
    "    df_condition.loc[:,'mot_cat'] = Series('low',index=df_condition.index)\n",
    "    for index, row in df_condition.iterrows():\n",
    "        hrf_length = index+BOLD_window\n",
    "        trial_motion = df_full.iloc[index:hrf_length,8]\n",
    "        excess_vols = (trial_motion >= motion_thresh) + (trial_motion <= (-1*motion_thresh))\n",
    "        if sum(excess_vols) >= 4:\n",
    "            df_condition.loc[index,'mot_cat'] = 'high'    \n",
    "    \n",
    "    lowmotion = df_condition[df_condition.loc[:, 'mot_cat'] == 'low']\n",
    "    highmotion = df_condition[df_condition.loc[:, 'mot_cat'] == 'high']\n",
    "    \n",
    "    return(subject_level_files)"
   ]
  },
  {
   "cell_type": "code",
   "execution_count": null,
   "metadata": {
    "collapsed": true
   },
   "outputs": [],
   "source": []
  }
 ],
 "metadata": {
  "kernelspec": {
   "display_name": "Python 2",
   "language": "python",
   "name": "python2"
  },
  "language_info": {
   "codemirror_mode": {
    "name": "ipython",
    "version": 2
   },
   "file_extension": ".py",
   "mimetype": "text/x-python",
   "name": "python",
   "nbconvert_exporter": "python",
   "pygments_lexer": "ipython2",
   "version": "2.7.11"
  }
 },
 "nbformat": 4,
 "nbformat_minor": 2
}
