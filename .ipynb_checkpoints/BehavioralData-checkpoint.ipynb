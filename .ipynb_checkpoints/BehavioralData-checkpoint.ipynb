{
 "cells": [
  {
   "cell_type": "code",
   "execution_count": 1,
   "metadata": {
    "collapsed": true
   },
   "outputs": [],
   "source": [
    "def timing_bars(run_timing_list,motion, motion_thresh, BOLD_window, subjid, timepoint, behavior_dir):\n",
    "    from nipype import config, logging\n",
    "    config.enable_debug_mode()\n",
    "    logging.update_logging(config)\n",
    "    \n",
    "    from pandas import DataFrame,Series,read_table,concat\n",
    "    from os.path import abspath\n",
    "     \n",
    "    # Import and organize motion data\n",
    "    motion_df = read_table(motion,delim_whitespace=True,header=None)\n",
    "    mean_translation = motion_df[[3,4,5]].mean(axis=1)\n",
    "    \n",
    "    # Create full task dataframe\n",
    "    run_timing_list = sorted(run_timing_list)\n",
    "    dfs = [ read_table(i,delim_whitespace=True) for i in run_timing_list ]\n",
    "    k=1\n",
    "    for df in dfs:\n",
    "        df.loc[:,'runNum'] = Series(k, index = df.index)\n",
    "        df.loc[:,'time_hyp'] = (k-1)*453 + df.loc[:,'time_hyp']\n",
    "        df.loc[:,'trial'] = (k*100) + df.loc[:,'trial']\n",
    "        k = k+1\n",
    "    df_full = concat(dfs,ignore_index=True)\n",
    "    df_full = df_full.sort(['runNum','time_hyp'], ascending=[1,1])\n",
    "    df_full.loc[:,'motion'] = mean_translation\n",
    "    df_full.loc[:,'subjid'] = Series(subjid,index=df_full.index)\n",
    "    df_full.loc[:,'timepoint'] = Series(timepoint,index=df_full.index)\n",
    "    \n",
    "    # Sort out trials that are complete\n",
    "    df_complete = df_full[df_full.loc[:,'catch']==0]\n",
    "    \n",
    "    # Add additional label to the trials with high motion\n",
    "    df_complete.loc[:,'mot_cat'] = Series('low',index=df_complete.index)\n",
    "    for index, row in df_complete.iterrows():\n",
    "        hrf_length = index+BOLD_window\n",
    "        trial_motion = df_full.iloc[index:hrf_length,8]\n",
    "        excess_vols = (trial_motion >= motion_thresh) + (trial_motion <= (-1*motion_thresh))\n",
    "        if sum(excess_vols) >= 3:\n",
    "            df_complete.loc[index,'mot_cat'] = 'high'\n",
    "    \n",
    "    df_complete.to_csv(behavior_dir + str(subjid) + '_cleaned_behavioral_data.csv')\n",
    "\n",
    "    df_trials = df_complete[df_complete.loc[:,'stim']=='cue']\n",
    "    df_usabletrials = df_trials[df_trials.loc[:,'mot_cat']=='low']\n",
    "    df_usabletrials = df_usabletrials[df_usabletrials.loc[:,'lat'] > 0]\n",
    "    \n",
    "        \n",
    "    return(df_usabletrials)"
   ]
  },
  {
   "cell_type": "code",
   "execution_count": 8,
   "metadata": {
    "collapsed": false,
    "scrolled": false
   },
   "outputs": [
    {
     "name": "stdout",
     "output_type": "stream",
     "text": [
      "   subjid  timepoint  num_use_neut  mean_lat_neut  num_use_pun  mean_lat_pun\n",
      "0   10766          1           NaN            NaN          NaN           NaN\n"
     ]
    },
    {
     "name": "stderr",
     "output_type": "stream",
     "text": [
      "/usr/local/lib/python2.7/site-packages/ipykernel/__main__.py:23: FutureWarning: sort(columns=....) is deprecated, use sort_values(by=.....)\n"
     ]
    }
   ],
   "source": [
    "from pandas import DataFrame, Series\n",
    "from glob import glob\n",
    "\n",
    "analysis_home = '/Users/catcamacho/Box/LNCD_rewards_connectivity'\n",
    "#analysis_home = '/Volumes/Zeus/Cat'\n",
    "raw_dir = analysis_home + '/subjs'\n",
    "#raw_dir = '/Volumes/Phillips/bars/APWF_bars/subjs'\n",
    "behavior_dir = analysis_home + '/proc/behavior/'\n",
    "motion_dir = analysis_home + '/proc/preprocessing/motion_params'\n",
    "\n",
    "#pull subject info to iter over\n",
    "#subject_info = DataFrame.from_csv(analysis_home + '/misc/subjs.csv')\n",
    "#subjects_list = subject_info['SubjID'].tolist()\n",
    "#timepoints = subject_info['Timepoint'].tolist()\n",
    "\n",
    "subjects_list = [10766]\n",
    "timepoints = [1]\n",
    "motion_thresh = 0.9\n",
    "BOLD_window = 8\n",
    "\n",
    "summary_data = DataFrame()\n",
    "summary_data.loc[:,'subjid'] = Series(subjects_list,index=None)\n",
    "summary_data.loc[:,'timepoint'] = Series(timepoints,index=summary_data.index)\n",
    "summary_data = summary_data.reindex(columns= summary_data.columns.tolist() + ['num_use_total','lat_total','num_use_neut','mean_lat_neut','num_use_pun','mean_lat_pun'])\n",
    "print(summary_data)\n",
    "\n",
    "for subjid in subjects_list:\n",
    "    timepoint = timepoints[subjects_list.index(subjid)]\n",
    "    motion = motion_dir + '/%d_t%d/allmotion.txt' % (subjid,timepoint)\n",
    "    run_timing_list = glob(raw_dir + '/%d/%d_*/timing/*score_timing.txt'% (subjid,timepoint))\n",
    "    \n",
    "    subject_df = timing_bars(run_timing_list,motion, motion_thresh, BOLD_window, subjid, timepoint, behavior_dir)\n",
    "    sub_neut = subject_df[subject_df['cond'] == 'neutral']\n",
    "    sub_pun = subject_df[subject_df['cond'] == 'punish']\n",
    "    \n",
    "    \n",
    "    \n",
    "    \n"
   ]
  },
  {
   "cell_type": "code",
   "execution_count": null,
   "metadata": {
    "collapsed": true
   },
   "outputs": [],
   "source": []
  },
  {
   "cell_type": "code",
   "execution_count": null,
   "metadata": {
    "collapsed": false
   },
   "outputs": [],
   "source": [
    "import matplotlib.pyplot as plt \n",
    "import numpy as np\n",
    "from pandas import DataFrame, Series,read_excel\n",
    "analysis_home = '/Users/catcamacho/Box/LNCD_rewards_connectivity'\n",
    "subject_info = read_excel(analysis_home + '/doc/groupsworksheet.xlsx')\n",
    "\n",
    "males = subject_info[subject_info.loc[:,'Male']==1]\n",
    "females = subject_info[subject_info.loc[:,'Female']==1]\n",
    "male_age = males['age'].tolist()\n",
    "female_age = females['age'].tolist()\n",
    "\n",
    "fig1 = plt.hist([male_age, female_age], bins=20, stacked=True, align='mid', color=['blue','red'], label=['Male','Female'])\n",
    "plt.xlabel('Age at Scan')\n",
    "plt.ylabel('Number of Subjects')\n",
    "plt.legend()\n",
    "plt.savefig('agehist.svg')\n",
    "plt.show()\n"
   ]
  },
  {
   "cell_type": "code",
   "execution_count": null,
   "metadata": {
    "collapsed": true
   },
   "outputs": [],
   "source": []
  }
 ],
 "metadata": {
  "kernelspec": {
   "display_name": "Python 2",
   "language": "python",
   "name": "python2"
  },
  "language_info": {
   "codemirror_mode": {
    "name": "ipython",
    "version": 2
   },
   "file_extension": ".py",
   "mimetype": "text/x-python",
   "name": "python",
   "nbconvert_exporter": "python",
   "pygments_lexer": "ipython2",
   "version": "2.7.11"
  }
 },
 "nbformat": 4,
 "nbformat_minor": 2
}
